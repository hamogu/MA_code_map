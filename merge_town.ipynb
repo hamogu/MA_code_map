{
 "cells": [
  {
   "cell_type": "code",
   "execution_count": null,
   "metadata": {},
   "outputs": [],
   "source": [
    "from json import load, JSONEncoder\n",
    "import json\n"
   ]
  },
  {
   "cell_type": "code",
   "execution_count": null,
   "metadata": {},
   "outputs": [],
   "source": [
    "with open('MA_towns_merged.json') as f:\n",
    "    data = load(f)"
   ]
  },
  {
   "cell_type": "code",
   "execution_count": null,
   "metadata": {},
   "outputs": [],
   "source": [
    "data['features'][0]['geometry']['type'] = \"Polygon\"\n",
    "#data['features'][0]['geometry']['coordinates'] = data['features'][0]['geometry']['coordinates'][0]\n",
    "data['features'][0]['geometry']['coordinates'][0].insert(0, [[90, -180],\n",
    "                [90, 180],\n",
    "                [-90, 180],\n",
    "                [-90, -180]])\n",
    "data['features'][0]['geometry']['coordinates'] = data['features'][0]['geometry']['coordinates'][0]\n",
    "data['features'][0]['properties']['code_color'] = 999\n",
    "data['features'][0]['id'] = 'world'"
   ]
  },
  {
   "cell_type": "code",
   "execution_count": null,
   "metadata": {},
   "outputs": [],
   "source": [
    "# And write it into docs/MA_energy_codes_town.js such that it's read directly as a javascript file\n",
    "# That way, we get a file very similar to https://leafletjs.com/examples/choropleth/\n",
    "with open('docs/MA_outline.js', 'w') as f:\n",
    "    f.write('var OutlineData = ' + json.dumps(data) + ';')"
   ]
  },
  {
   "cell_type": "code",
   "execution_count": null,
   "metadata": {},
   "outputs": [],
   "source": [
    "for feat in data['features']:\n",
    "    if feat['geometry']['type'] == 'MultiPolygon':\n",
    "        #break\n",
    "        print(feat['properties']['town'], feat['geometry']['type'])"
   ]
  },
  {
   "cell_type": "code",
   "execution_count": null,
   "metadata": {},
   "outputs": [],
   "source": [
    "feat['geometry']['coordinates'][0]"
   ]
  },
  {
   "cell_type": "code",
   "execution_count": null,
   "metadata": {},
   "outputs": [],
   "source": []
  }
 ],
 "metadata": {
  "kernelspec": {
   "display_name": "kitchensink",
   "language": "python",
   "name": "python3"
  },
  "language_info": {
   "codemirror_mode": {
    "name": "ipython",
    "version": 3
   },
   "file_extension": ".py",
   "mimetype": "text/x-python",
   "name": "python",
   "nbconvert_exporter": "python",
   "pygments_lexer": "ipython3",
   "version": "3.10.8 | packaged by conda-forge | (main, Nov 22 2022, 08:25:29) [Clang 14.0.6 ]"
  },
  "orig_nbformat": 4,
  "vscode": {
   "interpreter": {
    "hash": "c2ba2f51944d9bdbbbd43915e997a04a0d201faf7279ab44f309af268d1bd358"
   }
  }
 },
 "nbformat": 4,
 "nbformat_minor": 2
}
